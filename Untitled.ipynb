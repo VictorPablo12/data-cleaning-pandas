{
 "cells": [
  {
   "cell_type": "code",
   "execution_count": 4,
   "id": "e66cee2b",
   "metadata": {},
   "outputs": [],
   "source": [
    "import re"
   ]
  },
  {
   "cell_type": "code",
   "execution_count": 36,
   "id": "0692f915",
   "metadata": {},
   "outputs": [],
   "source": [
    "lista = ['1930-1956',\n",
    "'before 1900 after 1910','1950']"
   ]
  },
  {
   "cell_type": "code",
   "execution_count": 44,
   "id": "a4162ebf",
   "metadata": {
    "collapsed": true
   },
   "outputs": [
    {
     "name": "stdout",
     "output_type": "stream",
     "text": [
      "['1930-1956'], coincidencia de findall\n",
      "Mi media es 1943\n",
      "['1900 after 1910'], coincidencia de findall\n",
      "Mi media es 1905\n",
      "No doy coincidencia de findall\n"
     ]
    }
   ],
   "source": [
    "for element in lista:\n",
    "    y = re.findall('\\d{4}-\\d{4}|\\d{4}\\s\\w+\\s\\d{4}', str(element))\n",
    "    if y:\n",
    "        print(f\"{y}, coincidencia de findall\")\n",
    "        for element in y:\n",
    "            x = re.findall(\"\\d{4}\",element)\n",
    "            a = int(x[0])\n",
    "            b = int(x[1])\n",
    "            c = int((a+b)/2)\n",
    "            print(f\"Mi media es {c}\")\n",
    "    else:\n",
    "        print(\"No doy coincidencia de findall\")"
   ]
  }
 ],
 "metadata": {
  "kernelspec": {
   "display_name": "ironhack",
   "language": "python",
   "name": "ironhack"
  },
  "language_info": {
   "codemirror_mode": {
    "name": "ipython",
    "version": 3
   },
   "file_extension": ".py",
   "mimetype": "text/x-python",
   "name": "python",
   "nbconvert_exporter": "python",
   "pygments_lexer": "ipython3",
   "version": "3.8.10"
  }
 },
 "nbformat": 4,
 "nbformat_minor": 5
}
